{
    "cells": [
        {
            "cell_type": "markdown",
            "metadata": {},
            "source": "# My Jupyter Notebook on IBM Watson Studio\n"
        },
        {
            "cell_type": "markdown",
            "metadata": {},
            "source": "__Elias Dersahaguian__\n\nI am a physics and mathematics teacher transitioning to a career in data science."
        },
        {
            "cell_type": "markdown",
            "metadata": {},
            "source": "_I am interested in data science because it can open new opportunities for my professional development as well as new possibilities to stimulate my thinking and curiosity in solving problems._"
        },
        {
            "cell_type": "markdown",
            "metadata": {},
            "source": "### My code prints a welcoming message"
        },
        {
            "cell_type": "code",
            "execution_count": 6,
            "metadata": {},
            "outputs": [
                {
                    "name": "stdout",
                    "output_type": "stream",
                    "text": "Hello friend, thank you for grading my assignment.\n"
                }
            ],
            "source": "print(\"Hello friend, thank you for grading my assignment.\")"
        },
        {
            "cell_type": "markdown",
            "metadata": {},
            "source": "Here is a table that classifies the following numbers\n- 1\n- 2\n- 3\n- 4\n***\n  &nbsp;|Prime| Not Prime\n ---|---|---\n __Even__| 2| 4\n __Odd__ |3 |1"
        },
        {
            "cell_type": "code",
            "execution_count": null,
            "metadata": {},
            "outputs": [],
            "source": ""
        }
    ],
    "metadata": {
        "kernelspec": {
            "display_name": "Python 3.9",
            "language": "python",
            "name": "python3"
        },
        "language_info": {
            "codemirror_mode": {
                "name": "ipython",
                "version": 3
            },
            "file_extension": ".py",
            "mimetype": "text/x-python",
            "name": "python",
            "nbconvert_exporter": "python",
            "pygments_lexer": "ipython3",
            "version": "3.9.7"
        }
    },
    "nbformat": 4,
    "nbformat_minor": 1
}